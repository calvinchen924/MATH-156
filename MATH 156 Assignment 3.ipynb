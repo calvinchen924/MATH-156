{
 "cells": [
  {
   "cell_type": "code",
   "execution_count": 1,
   "id": "a4c7c539-02a3-4658-9abd-354502510984",
   "metadata": {},
   "outputs": [],
   "source": [
    "import numpy as np\n",
    "import random\n",
    "import logreg as lr"
   ]
  },
  {
   "cell_type": "code",
   "execution_count": 2,
   "id": "4861b57a-0c49-4f31-b0ea-fbd6ed895eda",
   "metadata": {},
   "outputs": [],
   "source": [
    "from sklearn.model_selection import train_test_split\n",
    "from sklearn import preprocessing"
   ]
  },
  {
   "cell_type": "code",
   "execution_count": 3,
   "id": "cd7d5760-b3b8-40bd-8a60-b2efcddad1c9",
   "metadata": {},
   "outputs": [
    {
     "name": "stdout",
     "output_type": "stream",
     "text": [
      "{'uci_id': 17, 'name': 'Breast Cancer Wisconsin (Diagnostic)', 'repository_url': 'https://archive.ics.uci.edu/dataset/17/breast+cancer+wisconsin+diagnostic', 'data_url': 'https://archive.ics.uci.edu/static/public/17/data.csv', 'abstract': 'Diagnostic Wisconsin Breast Cancer Database.', 'area': 'Health and Medicine', 'tasks': ['Classification'], 'characteristics': ['Multivariate'], 'num_instances': 569, 'num_features': 30, 'feature_types': ['Real'], 'demographics': [], 'target_col': ['Diagnosis'], 'index_col': ['ID'], 'has_missing_values': 'no', 'missing_values_symbol': None, 'year_of_dataset_creation': 1993, 'last_updated': 'Fri Nov 03 2023', 'dataset_doi': '10.24432/C5DW2B', 'creators': ['William Wolberg', 'Olvi Mangasarian', 'Nick Street', 'W. Street'], 'intro_paper': {'ID': 230, 'type': 'NATIVE', 'title': 'Nuclear feature extraction for breast tumor diagnosis', 'authors': 'W. Street, W. Wolberg, O. Mangasarian', 'venue': 'Electronic imaging', 'year': 1993, 'journal': None, 'DOI': '10.1117/12.148698', 'URL': 'https://www.semanticscholar.org/paper/53f0fbb425bc14468eb3bf96b2e1d41ba8087f36', 'sha': None, 'corpus': None, 'arxiv': None, 'mag': None, 'acl': None, 'pmid': None, 'pmcid': None}, 'additional_info': {'summary': 'Features are computed from a digitized image of a fine needle aspirate (FNA) of a breast mass.  They describe characteristics of the cell nuclei present in the image. A few of the images can be found at http://www.cs.wisc.edu/~street/images/\\r\\n\\r\\nSeparating plane described above was obtained using Multisurface Method-Tree (MSM-T) [K. P. Bennett, \"Decision Tree Construction Via Linear Programming.\" Proceedings of the 4th Midwest Artificial Intelligence and Cognitive Science Society, pp. 97-101, 1992], a classification method which uses linear programming to construct a decision tree.  Relevant features were selected using an exhaustive search in the space of 1-4 features and 1-3 separating planes.\\r\\n\\r\\nThe actual linear program used to obtain the separating plane in the 3-dimensional space is that described in: [K. P. Bennett and O. L. Mangasarian: \"Robust Linear Programming Discrimination of Two Linearly Inseparable Sets\", Optimization Methods and Software 1, 1992, 23-34].\\r\\n\\r\\nThis database is also available through the UW CS ftp server:\\r\\nftp ftp.cs.wisc.edu\\r\\ncd math-prog/cpo-dataset/machine-learn/WDBC/', 'purpose': None, 'funded_by': None, 'instances_represent': None, 'recommended_data_splits': None, 'sensitive_data': None, 'preprocessing_description': None, 'variable_info': '1) ID number\\r\\n2) Diagnosis (M = malignant, B = benign)\\r\\n3-32)\\r\\n\\r\\nTen real-valued features are computed for each cell nucleus:\\r\\n\\r\\n\\ta) radius (mean of distances from center to points on the perimeter)\\r\\n\\tb) texture (standard deviation of gray-scale values)\\r\\n\\tc) perimeter\\r\\n\\td) area\\r\\n\\te) smoothness (local variation in radius lengths)\\r\\n\\tf) compactness (perimeter^2 / area - 1.0)\\r\\n\\tg) concavity (severity of concave portions of the contour)\\r\\n\\th) concave points (number of concave portions of the contour)\\r\\n\\ti) symmetry \\r\\n\\tj) fractal dimension (\"coastline approximation\" - 1)', 'citation': None}}\n",
      "                  name     role         type demographic description units  \\\n",
      "0                   ID       ID  Categorical        None        None  None   \n",
      "1            Diagnosis   Target  Categorical        None        None  None   \n",
      "2              radius1  Feature   Continuous        None        None  None   \n",
      "3             texture1  Feature   Continuous        None        None  None   \n",
      "4           perimeter1  Feature   Continuous        None        None  None   \n",
      "5                area1  Feature   Continuous        None        None  None   \n",
      "6          smoothness1  Feature   Continuous        None        None  None   \n",
      "7         compactness1  Feature   Continuous        None        None  None   \n",
      "8           concavity1  Feature   Continuous        None        None  None   \n",
      "9      concave_points1  Feature   Continuous        None        None  None   \n",
      "10           symmetry1  Feature   Continuous        None        None  None   \n",
      "11  fractal_dimension1  Feature   Continuous        None        None  None   \n",
      "12             radius2  Feature   Continuous        None        None  None   \n",
      "13            texture2  Feature   Continuous        None        None  None   \n",
      "14          perimeter2  Feature   Continuous        None        None  None   \n",
      "15               area2  Feature   Continuous        None        None  None   \n",
      "16         smoothness2  Feature   Continuous        None        None  None   \n",
      "17        compactness2  Feature   Continuous        None        None  None   \n",
      "18          concavity2  Feature   Continuous        None        None  None   \n",
      "19     concave_points2  Feature   Continuous        None        None  None   \n",
      "20           symmetry2  Feature   Continuous        None        None  None   \n",
      "21  fractal_dimension2  Feature   Continuous        None        None  None   \n",
      "22             radius3  Feature   Continuous        None        None  None   \n",
      "23            texture3  Feature   Continuous        None        None  None   \n",
      "24          perimeter3  Feature   Continuous        None        None  None   \n",
      "25               area3  Feature   Continuous        None        None  None   \n",
      "26         smoothness3  Feature   Continuous        None        None  None   \n",
      "27        compactness3  Feature   Continuous        None        None  None   \n",
      "28          concavity3  Feature   Continuous        None        None  None   \n",
      "29     concave_points3  Feature   Continuous        None        None  None   \n",
      "30           symmetry3  Feature   Continuous        None        None  None   \n",
      "31  fractal_dimension3  Feature   Continuous        None        None  None   \n",
      "\n",
      "   missing_values  \n",
      "0              no  \n",
      "1              no  \n",
      "2              no  \n",
      "3              no  \n",
      "4              no  \n",
      "5              no  \n",
      "6              no  \n",
      "7              no  \n",
      "8              no  \n",
      "9              no  \n",
      "10             no  \n",
      "11             no  \n",
      "12             no  \n",
      "13             no  \n",
      "14             no  \n",
      "15             no  \n",
      "16             no  \n",
      "17             no  \n",
      "18             no  \n",
      "19             no  \n",
      "20             no  \n",
      "21             no  \n",
      "22             no  \n",
      "23             no  \n",
      "24             no  \n",
      "25             no  \n",
      "26             no  \n",
      "27             no  \n",
      "28             no  \n",
      "29             no  \n",
      "30             no  \n",
      "31             no  \n"
     ]
    }
   ],
   "source": [
    "from ucimlrepo import fetch_ucirepo \n",
    "  \n",
    "# fetch dataset \n",
    "breast_cancer_wisconsin_diagnostic = fetch_ucirepo(id=17) \n",
    "  \n",
    "# data (as pandas dataframes) \n",
    "X = breast_cancer_wisconsin_diagnostic.data.features \n",
    "ydat = breast_cancer_wisconsin_diagnostic.data.targets \n",
    "  \n",
    "# metadata \n",
    "print(breast_cancer_wisconsin_diagnostic.metadata) \n",
    "  \n",
    "# variable information \n",
    "print(breast_cancer_wisconsin_diagnostic.variables) "
   ]
  },
  {
   "cell_type": "code",
   "execution_count": 4,
   "id": "2d11ffb3-e87f-48ef-8db0-1be133551f44",
   "metadata": {},
   "outputs": [],
   "source": [
    "X=np.array(X)\n",
    "ydat=np.array(ydat)\n",
    "y=np.array([[int(yi=='M')] for yi in ydat])"
   ]
  },
  {
   "cell_type": "code",
   "execution_count": 5,
   "id": "59b9281c-e3ef-49bf-a27d-cb61fb253e13",
   "metadata": {},
   "outputs": [],
   "source": [
    "#Augments feature vector x with x[0]=1 for bias\n",
    "N=np.shape(X)[0]\n",
    "X_aug=np.hstack((np.full((N, 1), 1),X))\n",
    "m=np.shape(X_aug)[1]"
   ]
  },
  {
   "cell_type": "code",
   "execution_count": 6,
   "id": "f474e23d-f67b-4c2f-8d23-d6eef2e731f1",
   "metadata": {},
   "outputs": [],
   "source": [
    "#Perform feature scaling on X\n",
    "scaler = preprocessing.StandardScaler().fit(X_aug)\n",
    "X_scaled = scaler.transform(X_aug)"
   ]
  },
  {
   "cell_type": "code",
   "execution_count": 7,
   "id": "9e49377f-7ad7-4abe-8f97-cc6509e539ed",
   "metadata": {},
   "outputs": [],
   "source": [
    "#Splits off 60% of the set into a training set, 20% into validation and test set each\n",
    "X_train, X_testval, y_train, y_testval = train_test_split(X_scaled, y, test_size=0.40)\n",
    "X_test, X_val, y_test, y_val = train_test_split(X_testval, y_testval, test_size=0.50)"
   ]
  },
  {
   "cell_type": "code",
   "execution_count": 8,
   "id": "821f4f9f-79e0-430e-b375-65b27473acfd",
   "metadata": {},
   "outputs": [
    {
     "name": "stdout",
     "output_type": "stream",
     "text": [
      "(569, 30) (341, 31) (114, 31) (114, 31)\n",
      "(569, 1) (341, 1) (114, 1) (114, 1)\n"
     ]
    }
   ],
   "source": [
    "print(np.shape(X),np.shape(X_train),np.shape(X_val),np.shape(X_test))\n",
    "\n",
    "print(np.shape(y),np.shape(y_train),np.shape(y_val),np.shape(y_test))"
   ]
  },
  {
   "cell_type": "code",
   "execution_count": 9,
   "id": "8fa0346f-4180-4a15-9e1a-13039f65dcee",
   "metadata": {},
   "outputs": [
    {
     "name": "stdout",
     "output_type": "stream",
     "text": [
      "Training set: M: 132, B: 209\n",
      "Validation set: M: 43, B: 71\n",
      "Test set: M: 37, B: 77\n"
     ]
    }
   ],
   "source": [
    "M_train=np.sum(y_train)\n",
    "M_val=np.sum(y_val)\n",
    "M_test=np.sum(y_test)\n",
    "\n",
    "N_train=np.shape(y_train)[0]\n",
    "N_val=np.shape(y_val)[0]\n",
    "N_test=np.shape(y_test)[0]\n",
    "\n",
    "B_train=N_train-M_train\n",
    "B_val=N_val-M_val\n",
    "B_test=N_test-M_test\n",
    "\n",
    "print(f\"Training set: M: {M_train}, B: {B_train}\")\n",
    "print(f\"Validation set: M: {M_val}, B: {B_val}\")\n",
    "print(f\"Test set: M: {M_test}, B: {B_test}\")"
   ]
  },
  {
   "cell_type": "code",
   "execution_count": 54,
   "id": "484b7287-99a6-4318-8cd3-b3aa9843cc01",
   "metadata": {},
   "outputs": [
    {
     "name": "stdout",
     "output_type": "stream",
     "text": [
      "Step 0: CE loss [[4.27626888]]\n",
      "Step 10000: CE loss [[0.80537942]]\n",
      "Step 20000: CE loss [[0.4502795]]\n",
      "Step 30000: CE loss [[0.28214032]]\n",
      "Step 40000: CE loss [[0.20872789]]\n",
      "Step 50000: CE loss [[0.1768803]]\n",
      "Step 60000: CE loss [[0.15683072]]\n",
      "Step 70000: CE loss [[0.14312853]]\n",
      "Step 80000: CE loss [[0.13272653]]\n",
      "Step 90000: CE loss [[0.1246679]]\n",
      "Final results: CE loss [[0.11819774]]\n"
     ]
    }
   ],
   "source": [
    "w_sgd=lr.optimize(X_train,y_train,100000,.00025,15,10000)"
   ]
  },
  {
   "cell_type": "code",
   "execution_count": 56,
   "id": "91456cf4-c0f0-45e9-99bc-08a763f53f35",
   "metadata": {},
   "outputs": [
    {
     "name": "stdout",
     "output_type": "stream",
     "text": [
      "[[0.11264025]]\n"
     ]
    }
   ],
   "source": [
    "#Evaluates cross-entropy of validation set based on trained weights to tune hyperparameters\n",
    "valentropy=lr.entropy(w_sgd,X_val,y_val)\n",
    "print(valentropy)"
   ]
  },
  {
   "cell_type": "code",
   "execution_count": 58,
   "id": "a6d2f5a9-c788-4e86-94c5-8f8524c2f2e8",
   "metadata": {},
   "outputs": [
    {
     "name": "stdout",
     "output_type": "stream",
     "text": [
      "[[0.07116624]]\n"
     ]
    }
   ],
   "source": [
    "testentropy=lr.entropy(w_sgd,X_test,y_test)\n",
    "print(testentropy)"
   ]
  },
  {
   "cell_type": "code",
   "execution_count": 64,
   "id": "d7509f61-116e-497f-beb0-900a01b845d7",
   "metadata": {},
   "outputs": [],
   "source": [
    "#Makes binary prediction on test set fom trained weights (sig(z)>0.5)\n",
    "ypred_test=lr.ybin(w_sgd,X_test)"
   ]
  },
  {
   "cell_type": "code",
   "execution_count": 84,
   "id": "a01adbcc-d12b-43dd-9095-8939d737ea48",
   "metadata": {},
   "outputs": [
    {
     "name": "stdout",
     "output_type": "stream",
     "text": [
      "[[114]]\n"
     ]
    }
   ],
   "source": [
    "#Calculates TP TN FP FN on test set\n",
    "TP=np.dot(ypred_test.T,y_test)\n",
    "TN=np.dot((1-ypred_test).T,1-y_test)\n",
    "FP=np.dot(ypred_test.T,1-y_test)\n",
    "FN=np.dot((1-ypred_test).T,y_test)\n",
    "\n",
    "print(TP+TN+FP+FN)"
   ]
  },
  {
   "cell_type": "code",
   "execution_count": 92,
   "id": "74febcc9-bfc1-4714-a9ef-b5def2a28e14",
   "metadata": {},
   "outputs": [
    {
     "name": "stdout",
     "output_type": "stream",
     "text": [
      "Precision: [[0.92307692]], recall: [[0.97297297]], accuracy: [[0.96491228]], F1: [[0.94736842]]\n"
     ]
    }
   ],
   "source": [
    "#calculates metrics\n",
    "precision=TP/(TP+FP)\n",
    "recall=TP/(TP+FN)\n",
    "accuracy=(TP+TN)/(TP+TN+FP+FN)\n",
    "F1=2*precision*recall/(precision+recall)\n",
    "print(f\"Precision: {precision}, recall: {recall}, accuracy: {accuracy}, F1: {F1}\")"
   ]
  },
  {
   "cell_type": "code",
   "execution_count": null,
   "id": "f8e88d64-2659-4810-842e-a878d79bac3f",
   "metadata": {},
   "outputs": [],
   "source": []
  }
 ],
 "metadata": {
  "kernelspec": {
   "display_name": "Python 3 (ipykernel)",
   "language": "python",
   "name": "python3"
  },
  "language_info": {
   "codemirror_mode": {
    "name": "ipython",
    "version": 3
   },
   "file_extension": ".py",
   "mimetype": "text/x-python",
   "name": "python",
   "nbconvert_exporter": "python",
   "pygments_lexer": "ipython3",
   "version": "3.11.5"
  }
 },
 "nbformat": 4,
 "nbformat_minor": 5
}
